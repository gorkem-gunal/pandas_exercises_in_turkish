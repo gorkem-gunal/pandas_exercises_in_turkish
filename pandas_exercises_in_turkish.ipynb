{
 "cells": [
  {
   "cell_type": "markdown",
   "id": "ae140ce8",
   "metadata": {
    "papermill": {
     "duration": 0.024562,
     "end_time": "2023-09-11T12:32:17.764873",
     "exception": false,
     "start_time": "2023-09-11T12:32:17.740311",
     "status": "completed"
    },
    "tags": []
   },
   "source": [
    "**Bu ödevde, veri seti üzerinde detaylı bir inceleme yapmanız bekleniyor.\n",
    "Öncelikle verilen veri setini dikkatle inceleyerek columnların ne ifade ettiğini kendi ifadeleriniz ile açıklayın. \n",
    "Veri setleri her zaman detaylı açıklamalar ile gelmeyebilir, bu durumlarda sorumluluk almalı ve veriyi yorumlama becerisine sahip olmalısınız.\n",
    "Bu nedenle description kısmı boş olarak gelen feature'lar için de tahminde bulunmanızı bekliyorum.**\n",
    "\n",
    "Örneğin: \n",
    "    \n",
    "- age(integer) -> tabloda yer alan kişilerin yaş bilgisi\n",
    "- workclass(..) -> ...\n",
    "\n",
    "\n",
    "Veri bu notebook üzerinde import edilmiş halde bulunuyor. csv dosyasını DataFrame içerisine okuduktan sonra üzerinde gerekli gördüğünüz çalışmaları yapabilirsiniz. \n",
    "\n",
    "Aşağıdaki sorulara cevap bulmanızı bekliyorum. "
   ]
  },
  {
   "cell_type": "markdown",
   "id": "74439dfd",
   "metadata": {
    "_cell_guid": "b1076dfc-b9ad-4769-8c92-a6c4dae69d19",
    "_uuid": "8f2839f25d086af736a60e9eeb907d3b93b6e0e5",
    "papermill": {
     "duration": 0.02203,
     "end_time": "2023-09-11T12:32:17.809465",
     "exception": false,
     "start_time": "2023-09-11T12:32:17.787435",
     "status": "completed"
    },
    "tags": []
   },
   "source": [
    "> İncelemek için, Data Source : [Here](https://archive.ics.uci.edu/dataset/2/adult)"
   ]
  },
  {
   "cell_type": "code",
   "execution_count": 1,
   "id": "72790325",
   "metadata": {
    "execution": {
     "iopub.execute_input": "2023-09-11T12:32:17.855619Z",
     "iopub.status.busy": "2023-09-11T12:32:17.855211Z",
     "iopub.status.idle": "2023-09-11T12:32:18.780816Z",
     "shell.execute_reply": "2023-09-11T12:32:18.779684Z"
    },
    "papermill": {
     "duration": 0.952088,
     "end_time": "2023-09-11T12:32:18.783721",
     "exception": false,
     "start_time": "2023-09-11T12:32:17.831633",
     "status": "completed"
    },
    "tags": []
   },
   "outputs": [],
   "source": [
    "import pandas as pd"
   ]
  },
  {
   "cell_type": "code",
   "execution_count": 2,
   "id": "5344ee3b",
   "metadata": {
    "execution": {
     "iopub.execute_input": "2023-09-11T12:32:18.831312Z",
     "iopub.status.busy": "2023-09-11T12:32:18.830752Z",
     "iopub.status.idle": "2023-09-11T12:32:19.010412Z",
     "shell.execute_reply": "2023-09-11T12:32:19.008445Z"
    },
    "papermill": {
     "duration": 0.207417,
     "end_time": "2023-09-11T12:32:19.013915",
     "exception": false,
     "start_time": "2023-09-11T12:32:18.806498",
     "status": "completed"
    },
    "tags": []
   },
   "outputs": [
    {
     "data": {
      "text/html": [
       "<div>\n",
       "<style scoped>\n",
       "    .dataframe tbody tr th:only-of-type {\n",
       "        vertical-align: middle;\n",
       "    }\n",
       "\n",
       "    .dataframe tbody tr th {\n",
       "        vertical-align: top;\n",
       "    }\n",
       "\n",
       "    .dataframe thead th {\n",
       "        text-align: right;\n",
       "    }\n",
       "</style>\n",
       "<table border=\"1\" class=\"dataframe\">\n",
       "  <thead>\n",
       "    <tr style=\"text-align: right;\">\n",
       "      <th></th>\n",
       "      <th>age</th>\n",
       "      <th>workclass</th>\n",
       "      <th>fnlwgt</th>\n",
       "      <th>education</th>\n",
       "      <th>education-num</th>\n",
       "      <th>marital-status</th>\n",
       "      <th>occupation</th>\n",
       "      <th>relationship</th>\n",
       "      <th>race</th>\n",
       "      <th>sex</th>\n",
       "      <th>capital-gain</th>\n",
       "      <th>capital-loss</th>\n",
       "      <th>hours-per-week</th>\n",
       "      <th>native-country</th>\n",
       "      <th>salary</th>\n",
       "    </tr>\n",
       "  </thead>\n",
       "  <tbody>\n",
       "    <tr>\n",
       "      <th>0</th>\n",
       "      <td>39</td>\n",
       "      <td>State-gov</td>\n",
       "      <td>77516</td>\n",
       "      <td>Bachelors</td>\n",
       "      <td>13</td>\n",
       "      <td>Never-married</td>\n",
       "      <td>Adm-clerical</td>\n",
       "      <td>Not-in-family</td>\n",
       "      <td>White</td>\n",
       "      <td>Male</td>\n",
       "      <td>2174</td>\n",
       "      <td>0</td>\n",
       "      <td>40</td>\n",
       "      <td>United-States</td>\n",
       "      <td>&lt;=50K</td>\n",
       "    </tr>\n",
       "    <tr>\n",
       "      <th>1</th>\n",
       "      <td>50</td>\n",
       "      <td>Self-emp-not-inc</td>\n",
       "      <td>83311</td>\n",
       "      <td>Bachelors</td>\n",
       "      <td>13</td>\n",
       "      <td>Married-civ-spouse</td>\n",
       "      <td>Exec-managerial</td>\n",
       "      <td>Husband</td>\n",
       "      <td>White</td>\n",
       "      <td>Male</td>\n",
       "      <td>0</td>\n",
       "      <td>0</td>\n",
       "      <td>13</td>\n",
       "      <td>United-States</td>\n",
       "      <td>&lt;=50K</td>\n",
       "    </tr>\n",
       "    <tr>\n",
       "      <th>2</th>\n",
       "      <td>38</td>\n",
       "      <td>Private</td>\n",
       "      <td>215646</td>\n",
       "      <td>HS-grad</td>\n",
       "      <td>9</td>\n",
       "      <td>Divorced</td>\n",
       "      <td>Handlers-cleaners</td>\n",
       "      <td>Not-in-family</td>\n",
       "      <td>White</td>\n",
       "      <td>Male</td>\n",
       "      <td>0</td>\n",
       "      <td>0</td>\n",
       "      <td>40</td>\n",
       "      <td>United-States</td>\n",
       "      <td>&lt;=50K</td>\n",
       "    </tr>\n",
       "    <tr>\n",
       "      <th>3</th>\n",
       "      <td>53</td>\n",
       "      <td>Private</td>\n",
       "      <td>234721</td>\n",
       "      <td>11th</td>\n",
       "      <td>7</td>\n",
       "      <td>Married-civ-spouse</td>\n",
       "      <td>Handlers-cleaners</td>\n",
       "      <td>Husband</td>\n",
       "      <td>Black</td>\n",
       "      <td>Male</td>\n",
       "      <td>0</td>\n",
       "      <td>0</td>\n",
       "      <td>40</td>\n",
       "      <td>United-States</td>\n",
       "      <td>&lt;=50K</td>\n",
       "    </tr>\n",
       "    <tr>\n",
       "      <th>4</th>\n",
       "      <td>28</td>\n",
       "      <td>Private</td>\n",
       "      <td>338409</td>\n",
       "      <td>Bachelors</td>\n",
       "      <td>13</td>\n",
       "      <td>Married-civ-spouse</td>\n",
       "      <td>Prof-specialty</td>\n",
       "      <td>Wife</td>\n",
       "      <td>Black</td>\n",
       "      <td>Female</td>\n",
       "      <td>0</td>\n",
       "      <td>0</td>\n",
       "      <td>40</td>\n",
       "      <td>Cuba</td>\n",
       "      <td>&lt;=50K</td>\n",
       "    </tr>\n",
       "  </tbody>\n",
       "</table>\n",
       "</div>"
      ],
      "text/plain": [
       "   age         workclass  fnlwgt  education  education-num  \\\n",
       "0   39         State-gov   77516  Bachelors             13   \n",
       "1   50  Self-emp-not-inc   83311  Bachelors             13   \n",
       "2   38           Private  215646    HS-grad              9   \n",
       "3   53           Private  234721       11th              7   \n",
       "4   28           Private  338409  Bachelors             13   \n",
       "\n",
       "       marital-status         occupation   relationship   race     sex  \\\n",
       "0       Never-married       Adm-clerical  Not-in-family  White    Male   \n",
       "1  Married-civ-spouse    Exec-managerial        Husband  White    Male   \n",
       "2            Divorced  Handlers-cleaners  Not-in-family  White    Male   \n",
       "3  Married-civ-spouse  Handlers-cleaners        Husband  Black    Male   \n",
       "4  Married-civ-spouse     Prof-specialty           Wife  Black  Female   \n",
       "\n",
       "   capital-gain  capital-loss  hours-per-week native-country salary  \n",
       "0          2174             0              40  United-States  <=50K  \n",
       "1             0             0              13  United-States  <=50K  \n",
       "2             0             0              40  United-States  <=50K  \n",
       "3             0             0              40  United-States  <=50K  \n",
       "4             0             0              40           Cuba  <=50K  "
      ]
     },
     "execution_count": 2,
     "metadata": {},
     "output_type": "execute_result"
    }
   ],
   "source": [
    "df = pd.read_csv(\"/kaggle/input/adult-data/adult.data.csv\")\n",
    "df.head()"
   ]
  },
  {
   "cell_type": "markdown",
   "id": "297f07fd",
   "metadata": {
    "papermill": {
     "duration": 0.022409,
     "end_time": "2023-09-11T12:32:19.060049",
     "exception": false,
     "start_time": "2023-09-11T12:32:19.037640",
     "status": "completed"
    },
    "tags": []
   },
   "source": [
    "> ----------------------------------------------------------------------------------------------------------------"
   ]
  },
  {
   "cell_type": "markdown",
   "id": "5d2d29b0",
   "metadata": {
    "papermill": {
     "duration": 0.023596,
     "end_time": "2023-09-11T12:32:19.106168",
     "exception": false,
     "start_time": "2023-09-11T12:32:19.082572",
     "status": "completed"
    },
    "tags": []
   },
   "source": [
    "## Beginner Level Questions"
   ]
  },
  {
   "cell_type": "markdown",
   "id": "b767d156",
   "metadata": {
    "papermill": {
     "duration": 0.022507,
     "end_time": "2023-09-11T12:32:19.151954",
     "exception": false,
     "start_time": "2023-09-11T12:32:19.129447",
     "status": "completed"
    },
    "tags": []
   },
   "source": [
    "**Veri kümesinde kaç birey bulunmaktadır?**"
   ]
  },
  {
   "cell_type": "code",
   "execution_count": 3,
   "id": "51b9aebe",
   "metadata": {
    "execution": {
     "iopub.execute_input": "2023-09-11T12:32:19.199383Z",
     "iopub.status.busy": "2023-09-11T12:32:19.198935Z",
     "iopub.status.idle": "2023-09-11T12:32:19.206339Z",
     "shell.execute_reply": "2023-09-11T12:32:19.205147Z"
    },
    "papermill": {
     "duration": 0.034497,
     "end_time": "2023-09-11T12:32:19.209099",
     "exception": false,
     "start_time": "2023-09-11T12:32:19.174602",
     "status": "completed"
    },
    "tags": []
   },
   "outputs": [
    {
     "data": {
      "text/plain": [
       "32561"
      ]
     },
     "execution_count": 3,
     "metadata": {},
     "output_type": "execute_result"
    }
   ],
   "source": [
    "df.shape[0]"
   ]
  },
  {
   "cell_type": "markdown",
   "id": "6c436380",
   "metadata": {
    "papermill": {
     "duration": 0.022531,
     "end_time": "2023-09-11T12:32:19.254412",
     "exception": false,
     "start_time": "2023-09-11T12:32:19.231881",
     "status": "completed"
    },
    "tags": []
   },
   "source": [
    "**Bireylerin yaş dağılımı nedir?**"
   ]
  },
  {
   "cell_type": "code",
   "execution_count": 4,
   "id": "1f9eff5e",
   "metadata": {
    "execution": {
     "iopub.execute_input": "2023-09-11T12:32:19.301500Z",
     "iopub.status.busy": "2023-09-11T12:32:19.301125Z",
     "iopub.status.idle": "2023-09-11T12:32:21.909269Z",
     "shell.execute_reply": "2023-09-11T12:32:21.908125Z"
    },
    "papermill": {
     "duration": 2.634776,
     "end_time": "2023-09-11T12:32:21.911704",
     "exception": false,
     "start_time": "2023-09-11T12:32:19.276928",
     "status": "completed"
    },
    "tags": []
   },
   "outputs": [
    {
     "name": "stderr",
     "output_type": "stream",
     "text": [
      "/opt/conda/lib/python3.10/site-packages/seaborn/axisgrid.py:118: UserWarning: The figure layout has changed to tight\n",
      "  self._figure.tight_layout(*args, **kwargs)\n"
     ]
    },
    {
     "data": {
      "text/plain": [
       "<seaborn.axisgrid.FacetGrid at 0x7b2e63a79630>"
      ]
     },
     "execution_count": 4,
     "metadata": {},
     "output_type": "execute_result"
    },
    {
     "data": {
      "image/png": "[encoded data removed]",
      "text/plain": [
       "<Figure size 500x500 with 1 Axes>"
      ]
     },
     "metadata": {},
     "output_type": "display_data"
    }
   ],
   "source": [
    "import seaborn as sns\n",
    "\n",
    "sns.displot(df['age'] , kind= 'kde')"
   ]
  },
  {
   "cell_type": "markdown",
   "id": "481d7959",
   "metadata": {
    "papermill": {
     "duration": 0.083465,
     "end_time": "2023-09-11T12:32:22.018708",
     "exception": false,
     "start_time": "2023-09-11T12:32:21.935243",
     "status": "completed"
    },
    "tags": []
   },
   "source": [
    "**Hangi çalışma sınıfında en fazla birey bulunmaktadır?**"
   ]
  },
  {
   "cell_type": "code",
   "execution_count": 5,
   "id": "2fce79a5",
   "metadata": {
    "execution": {
     "iopub.execute_input": "2023-09-11T12:32:22.070785Z",
     "iopub.status.busy": "2023-09-11T12:32:22.070135Z",
     "iopub.status.idle": "2023-09-11T12:32:22.086513Z",
     "shell.execute_reply": "2023-09-11T12:32:22.085305Z"
    },
    "papermill": {
     "duration": 0.044737,
     "end_time": "2023-09-11T12:32:22.088986",
     "exception": false,
     "start_time": "2023-09-11T12:32:22.044249",
     "status": "completed"
    },
    "tags": []
   },
   "outputs": [
    {
     "data": {
      "text/plain": [
       "workclass\n",
       "Private             22696\n",
       "Self-emp-not-inc     2541\n",
       "Local-gov            2093\n",
       "?                    1836\n",
       "State-gov            1298\n",
       "Self-emp-inc         1116\n",
       "Federal-gov           960\n",
       "Without-pay            14\n",
       "Never-worked            7\n",
       "Name: count, dtype: int64"
      ]
     },
     "execution_count": 5,
     "metadata": {},
     "output_type": "execute_result"
    }
   ],
   "source": [
    "df['workclass'].value_counts()"
   ]
  },
  {
   "cell_type": "markdown",
   "id": "c2bccb0b",
   "metadata": {
    "papermill": {
     "duration": 0.023594,
     "end_time": "2023-09-11T12:32:22.136970",
     "exception": false,
     "start_time": "2023-09-11T12:32:22.113376",
     "status": "completed"
    },
    "tags": []
   },
   "source": [
    "**50K'nın üzerinde maaş alan kaç birey vardır?**"
   ]
  },
  {
   "cell_type": "code",
   "execution_count": 6,
   "id": "6c2ff276",
   "metadata": {
    "execution": {
     "iopub.execute_input": "2023-09-11T12:32:22.187056Z",
     "iopub.status.busy": "2023-09-11T12:32:22.186344Z",
     "iopub.status.idle": "2023-09-11T12:32:22.197593Z",
     "shell.execute_reply": "2023-09-11T12:32:22.196732Z"
    },
    "papermill": {
     "duration": 0.039122,
     "end_time": "2023-09-11T12:32:22.199964",
     "exception": false,
     "start_time": "2023-09-11T12:32:22.160842",
     "status": "completed"
    },
    "tags": []
   },
   "outputs": [
    {
     "data": {
      "text/plain": [
       "7841"
      ]
     },
     "execution_count": 6,
     "metadata": {},
     "output_type": "execute_result"
    }
   ],
   "source": [
    "df['salary'].value_counts()['>50K']"
   ]
  },
  {
   "cell_type": "markdown",
   "id": "a384361f",
   "metadata": {
    "papermill": {
     "duration": 0.025083,
     "end_time": "2023-09-11T12:32:22.249696",
     "exception": false,
     "start_time": "2023-09-11T12:32:22.224613",
     "status": "completed"
    },
    "tags": []
   },
   "source": [
    "**50K'nın üzerinde ve altında maaş alan bireylerin ortalama yaşı nedir?**"
   ]
  },
  {
   "cell_type": "code",
   "execution_count": 7,
   "id": "042b727f",
   "metadata": {
    "execution": {
     "iopub.execute_input": "2023-09-11T12:32:22.300210Z",
     "iopub.status.busy": "2023-09-11T12:32:22.299748Z",
     "iopub.status.idle": "2023-09-11T12:32:22.327762Z",
     "shell.execute_reply": "2023-09-11T12:32:22.326457Z"
    },
    "papermill": {
     "duration": 0.056118,
     "end_time": "2023-09-11T12:32:22.330155",
     "exception": false,
     "start_time": "2023-09-11T12:32:22.274037",
     "status": "completed"
    },
    "tags": []
   },
   "outputs": [
    {
     "name": "stdout",
     "output_type": "stream",
     "text": [
      "50k dan fazla kazananların yaş ortalaması: 44.24984058155847\n",
      "50k dan az kazananların yaş ortalaması: 36.78373786407767\n"
     ]
    }
   ],
   "source": [
    "ust50 = df[df['salary']== '>50K']\n",
    "alt50 = df[df['salary']== '<=50K']\n",
    "print('50k dan fazla kazananların yaş ortalaması:', ust50['age'].mean())\n",
    "print('50k dan az kazananların yaş ortalaması:', alt50['age'].mean())"
   ]
  },
  {
   "cell_type": "markdown",
   "id": "0581fe94",
   "metadata": {
    "papermill": {
     "duration": 0.024796,
     "end_time": "2023-09-11T12:32:22.379311",
     "exception": false,
     "start_time": "2023-09-11T12:32:22.354515",
     "status": "completed"
    },
    "tags": []
   },
   "source": [
    "**Bireyler tarafından elde edilen en yaygın eğitim seviyesi nedir?**"
   ]
  },
  {
   "cell_type": "code",
   "execution_count": 8,
   "id": "d73455ce",
   "metadata": {
    "execution": {
     "iopub.execute_input": "2023-09-11T12:32:22.431287Z",
     "iopub.status.busy": "2023-09-11T12:32:22.430569Z",
     "iopub.status.idle": "2023-09-11T12:32:22.441975Z",
     "shell.execute_reply": "2023-09-11T12:32:22.440929Z"
    },
    "papermill": {
     "duration": 0.040454,
     "end_time": "2023-09-11T12:32:22.444369",
     "exception": false,
     "start_time": "2023-09-11T12:32:22.403915",
     "status": "completed"
    },
    "tags": []
   },
   "outputs": [
    {
     "data": {
      "text/plain": [
       "'HS-grad'"
      ]
     },
     "execution_count": 8,
     "metadata": {},
     "output_type": "execute_result"
    }
   ],
   "source": [
    "df['education'].value_counts().index[0]"
   ]
  },
  {
   "cell_type": "markdown",
   "id": "1fcc91d7",
   "metadata": {
    "papermill": {
     "duration": 0.024043,
     "end_time": "2023-09-11T12:32:22.493311",
     "exception": false,
     "start_time": "2023-09-11T12:32:22.469268",
     "status": "completed"
    },
    "tags": []
   },
   "source": [
    "**Haftada 40 saatten fazla çalışan kaç birey vardır?**"
   ]
  },
  {
   "cell_type": "code",
   "execution_count": 9,
   "id": "066130ec",
   "metadata": {
    "execution": {
     "iopub.execute_input": "2023-09-11T12:32:22.544311Z",
     "iopub.status.busy": "2023-09-11T12:32:22.543888Z",
     "iopub.status.idle": "2023-09-11T12:32:22.555490Z",
     "shell.execute_reply": "2023-09-11T12:32:22.554159Z"
    },
    "papermill": {
     "duration": 0.040283,
     "end_time": "2023-09-11T12:32:22.558225",
     "exception": false,
     "start_time": "2023-09-11T12:32:22.517942",
     "status": "completed"
    },
    "tags": []
   },
   "outputs": [
    {
     "data": {
      "text/plain": [
       "9581"
      ]
     },
     "execution_count": 9,
     "metadata": {},
     "output_type": "execute_result"
    }
   ],
   "source": [
    "# len(df[df['hours-per-week'] > 40])\n",
    "\n",
    "df[df['hours-per-week'] > 40].shape[0]"
   ]
  },
  {
   "cell_type": "markdown",
   "id": "29da9df6",
   "metadata": {
    "papermill": {
     "duration": 0.024527,
     "end_time": "2023-09-11T12:32:22.607940",
     "exception": false,
     "start_time": "2023-09-11T12:32:22.583413",
     "status": "completed"
    },
    "tags": []
   },
   "source": [
    "**Her cinsiyetten kaç birey bulunmaktadır?**"
   ]
  },
  {
   "cell_type": "code",
   "execution_count": 10,
   "id": "d942b719",
   "metadata": {
    "execution": {
     "iopub.execute_input": "2023-09-11T12:32:22.658436Z",
     "iopub.status.busy": "2023-09-11T12:32:22.657998Z",
     "iopub.status.idle": "2023-09-11T12:32:22.671873Z",
     "shell.execute_reply": "2023-09-11T12:32:22.670309Z"
    },
    "papermill": {
     "duration": 0.042277,
     "end_time": "2023-09-11T12:32:22.674618",
     "exception": false,
     "start_time": "2023-09-11T12:32:22.632341",
     "status": "completed"
    },
    "tags": []
   },
   "outputs": [
    {
     "data": {
      "text/plain": [
       "sex\n",
       "Male      21790\n",
       "Female    10771\n",
       "Name: count, dtype: int64"
      ]
     },
     "execution_count": 10,
     "metadata": {},
     "output_type": "execute_result"
    }
   ],
   "source": [
    "df['sex'].value_counts()"
   ]
  },
  {
   "cell_type": "markdown",
   "id": "1a309f9c",
   "metadata": {
    "papermill": {
     "duration": 0.024363,
     "end_time": "2023-09-11T12:32:22.724055",
     "exception": false,
     "start_time": "2023-09-11T12:32:22.699692",
     "status": "completed"
    },
    "tags": []
   },
   "source": [
    "**Kadınların yaş ortalaması nedir?**"
   ]
  },
  {
   "cell_type": "code",
   "execution_count": 11,
   "id": "fcc88287",
   "metadata": {
    "execution": {
     "iopub.execute_input": "2023-09-11T12:32:22.776610Z",
     "iopub.status.busy": "2023-09-11T12:32:22.776132Z",
     "iopub.status.idle": "2023-09-11T12:32:22.794482Z",
     "shell.execute_reply": "2023-09-11T12:32:22.793321Z"
    },
    "papermill": {
     "duration": 0.048231,
     "end_time": "2023-09-11T12:32:22.797106",
     "exception": false,
     "start_time": "2023-09-11T12:32:22.748875",
     "status": "completed"
    },
    "tags": []
   },
   "outputs": [
    {
     "data": {
      "text/plain": [
       "36.85823043357163"
      ]
     },
     "execution_count": 11,
     "metadata": {},
     "output_type": "execute_result"
    }
   ],
   "source": [
    "df[df['sex'] == 'Female']['age'].mean()"
   ]
  },
  {
   "cell_type": "markdown",
   "id": "3fbcc9f8",
   "metadata": {
    "papermill": {
     "duration": 0.024838,
     "end_time": "2023-09-11T12:32:22.847456",
     "exception": false,
     "start_time": "2023-09-11T12:32:22.822618",
     "status": "completed"
    },
    "tags": []
   },
   "source": [
    "**Alman vatandaşlarının yüzdesi nedir?**"
   ]
  },
  {
   "cell_type": "code",
   "execution_count": 12,
   "id": "73a7d00e",
   "metadata": {
    "execution": {
     "iopub.execute_input": "2023-09-11T12:32:22.900251Z",
     "iopub.status.busy": "2023-09-11T12:32:22.899803Z",
     "iopub.status.idle": "2023-09-11T12:32:22.913296Z",
     "shell.execute_reply": "2023-09-11T12:32:22.912166Z"
    },
    "papermill": {
     "duration": 0.043106,
     "end_time": "2023-09-11T12:32:22.915742",
     "exception": false,
     "start_time": "2023-09-11T12:32:22.872636",
     "status": "completed"
    },
    "tags": []
   },
   "outputs": [
    {
     "data": {
      "text/plain": [
       "0.004207487485028101"
      ]
     },
     "execution_count": 12,
     "metadata": {},
     "output_type": "execute_result"
    }
   ],
   "source": [
    "df['native-country'].value_counts()['Germany'] / df.shape[0]"
   ]
  },
  {
   "cell_type": "markdown",
   "id": "b507603e",
   "metadata": {
    "papermill": {
     "duration": 0.024768,
     "end_time": "2023-09-11T12:32:22.965340",
     "exception": false,
     "start_time": "2023-09-11T12:32:22.940572",
     "status": "completed"
    },
    "tags": []
   },
   "source": [
    "**Yıllık 50 binden fazla kazanan insanların yaşlarının ortalaması ve standart sapması nedir?**"
   ]
  },
  {
   "cell_type": "code",
   "execution_count": 13,
   "id": "5e67471a",
   "metadata": {
    "execution": {
     "iopub.execute_input": "2023-09-11T12:32:23.017044Z",
     "iopub.status.busy": "2023-09-11T12:32:23.016666Z",
     "iopub.status.idle": "2023-09-11T12:32:23.043806Z",
     "shell.execute_reply": "2023-09-11T12:32:23.042673Z"
    },
    "papermill": {
     "duration": 0.056223,
     "end_time": "2023-09-11T12:32:23.046648",
     "exception": false,
     "start_time": "2023-09-11T12:32:22.990425",
     "status": "completed"
    },
    "tags": []
   },
   "outputs": [
    {
     "name": "stdout",
     "output_type": "stream",
     "text": [
      "44.24984058155847\n"
     ]
    },
    {
     "data": {
      "text/plain": [
       "10.519027719851826"
      ]
     },
     "execution_count": 13,
     "metadata": {},
     "output_type": "execute_result"
    }
   ],
   "source": [
    "print(df[df['salary'] == '>50K']['age'].mean())\n",
    "df[df['salary'] == '>50K']['age'].std()"
   ]
  },
  {
   "cell_type": "markdown",
   "id": "2a5acbca",
   "metadata": {
    "papermill": {
     "duration": 0.025168,
     "end_time": "2023-09-11T12:32:23.098182",
     "exception": false,
     "start_time": "2023-09-11T12:32:23.073014",
     "status": "completed"
    },
    "tags": []
   },
   "source": [
    "**50 binden fazla kazananlar en az lise eğitimi almıştır diyebilir miyiz?**\n",
    "> (education feature seti içerisinde Bachelors, Prof-school, Assoc-acdm, Assoc-voc, Masters ve Doctorate özelliğine sahip olanlar)"
   ]
  },
  {
   "cell_type": "markdown",
   "id": "909bc9aa",
   "metadata": {
    "papermill": {
     "duration": 0.025244,
     "end_time": "2023-09-11T12:32:23.149414",
     "exception": false,
     "start_time": "2023-09-11T12:32:23.124170",
     "status": "completed"
    },
    "tags": []
   },
   "source": [
    "Hayır, çünkü 50binden fazla kazanan lise ve ortaokul mezunu insanlar da var."
   ]
  },
  {
   "cell_type": "code",
   "execution_count": 14,
   "id": "1d5d3f60",
   "metadata": {
    "execution": {
     "iopub.execute_input": "2023-09-11T12:32:23.202367Z",
     "iopub.status.busy": "2023-09-11T12:32:23.201974Z",
     "iopub.status.idle": "2023-09-11T12:32:23.213216Z",
     "shell.execute_reply": "2023-09-11T12:32:23.212043Z"
    },
    "papermill": {
     "duration": 0.041263,
     "end_time": "2023-09-11T12:32:23.215737",
     "exception": false,
     "start_time": "2023-09-11T12:32:23.174474",
     "status": "completed"
    },
    "tags": []
   },
   "outputs": [
    {
     "data": {
      "text/plain": [
       "education\n",
       "Bachelors       0.283255\n",
       "HS-grad         0.213621\n",
       "Some-college    0.176891\n",
       "Masters         0.122306\n",
       "Prof-school     0.053947\n",
       "Assoc-voc       0.046040\n",
       "Doctorate       0.039026\n",
       "Assoc-acdm      0.033797\n",
       "10th            0.007907\n",
       "11th            0.007652\n",
       "7th-8th         0.005101\n",
       "12th            0.004209\n",
       "9th             0.003443\n",
       "5th-6th         0.002041\n",
       "1st-4th         0.000765\n",
       "Name: proportion, dtype: float64"
      ]
     },
     "execution_count": 14,
     "metadata": {},
     "output_type": "execute_result"
    }
   ],
   "source": [
    "ust50['education'].value_counts(normalize = True) # %94 civarı inanılmaz eğitimli"
   ]
  },
  {
   "cell_type": "markdown",
   "id": "0188ff65",
   "metadata": {
    "papermill": {
     "duration": 0.0266,
     "end_time": "2023-09-11T12:32:23.267856",
     "exception": false,
     "start_time": "2023-09-11T12:32:23.241256",
     "status": "completed"
    },
    "tags": []
   },
   "source": [
    "**Amer-Indian-Eskimo ırkındaki erkeklerin maksimum yaşını bulun.**"
   ]
  },
  {
   "cell_type": "code",
   "execution_count": 15,
   "id": "5b632fc1",
   "metadata": {
    "execution": {
     "iopub.execute_input": "2023-09-11T12:32:23.321791Z",
     "iopub.status.busy": "2023-09-11T12:32:23.321408Z",
     "iopub.status.idle": "2023-09-11T12:32:23.342472Z",
     "shell.execute_reply": "2023-09-11T12:32:23.341411Z"
    },
    "papermill": {
     "duration": 0.050587,
     "end_time": "2023-09-11T12:32:23.344876",
     "exception": false,
     "start_time": "2023-09-11T12:32:23.294289",
     "status": "completed"
    },
    "tags": []
   },
   "outputs": [
    {
     "data": {
      "text/plain": [
       "82"
      ]
     },
     "execution_count": 15,
     "metadata": {},
     "output_type": "execute_result"
    }
   ],
   "source": [
    "df[(df['race'] == 'Amer-Indian-Eskimo') & (df['sex'] == 'Male')]['age'].max()"
   ]
  },
  {
   "cell_type": "markdown",
   "id": "7b61df14",
   "metadata": {
    "papermill": {
     "duration": 0.025371,
     "end_time": "2023-09-11T12:32:23.395859",
     "exception": false,
     "start_time": "2023-09-11T12:32:23.370488",
     "status": "completed"
    },
    "tags": []
   },
   "source": [
    "**50 binden fazla kazanan erkeklerin evli/bekar olma oranı nedir?**\n",
    "> Married ifadesi ile başlayan feature'ları evli, kalanları ise bekar olarak kabul edin.\n",
    "\n"
   ]
  },
  {
   "cell_type": "code",
   "execution_count": 16,
   "id": "d461335f",
   "metadata": {
    "execution": {
     "iopub.execute_input": "2023-09-11T12:32:23.450023Z",
     "iopub.status.busy": "2023-09-11T12:32:23.448913Z",
     "iopub.status.idle": "2023-09-11T12:32:23.477977Z",
     "shell.execute_reply": "2023-09-11T12:32:23.476888Z"
    },
    "papermill": {
     "duration": 0.059048,
     "end_time": "2023-09-11T12:32:23.480441",
     "exception": false,
     "start_time": "2023-09-11T12:32:23.421393",
     "status": "completed"
    },
    "tags": []
   },
   "outputs": [
    {
     "data": {
      "text/html": [
       "<div>\n",
       "<style scoped>\n",
       "    .dataframe tbody tr th:only-of-type {\n",
       "        vertical-align: middle;\n",
       "    }\n",
       "\n",
       "    .dataframe tbody tr th {\n",
       "        vertical-align: top;\n",
       "    }\n",
       "\n",
       "    .dataframe thead th {\n",
       "        text-align: right;\n",
       "    }\n",
       "</style>\n",
       "<table border=\"1\" class=\"dataframe\">\n",
       "  <thead>\n",
       "    <tr style=\"text-align: right;\">\n",
       "      <th></th>\n",
       "      <th>age</th>\n",
       "      <th>workclass</th>\n",
       "      <th>fnlwgt</th>\n",
       "      <th>education</th>\n",
       "      <th>education-num</th>\n",
       "      <th>marital-status</th>\n",
       "      <th>occupation</th>\n",
       "      <th>relationship</th>\n",
       "      <th>race</th>\n",
       "      <th>sex</th>\n",
       "      <th>capital-gain</th>\n",
       "      <th>capital-loss</th>\n",
       "      <th>hours-per-week</th>\n",
       "      <th>native-country</th>\n",
       "      <th>salary</th>\n",
       "    </tr>\n",
       "  </thead>\n",
       "  <tbody>\n",
       "    <tr>\n",
       "      <th>7</th>\n",
       "      <td>52</td>\n",
       "      <td>Self-emp-not-inc</td>\n",
       "      <td>209642</td>\n",
       "      <td>HS-grad</td>\n",
       "      <td>9</td>\n",
       "      <td>Married-civ-spouse</td>\n",
       "      <td>Exec-managerial</td>\n",
       "      <td>Husband</td>\n",
       "      <td>White</td>\n",
       "      <td>Male</td>\n",
       "      <td>0</td>\n",
       "      <td>0</td>\n",
       "      <td>45</td>\n",
       "      <td>United-States</td>\n",
       "      <td>&gt;50K</td>\n",
       "    </tr>\n",
       "    <tr>\n",
       "      <th>9</th>\n",
       "      <td>42</td>\n",
       "      <td>Private</td>\n",
       "      <td>159449</td>\n",
       "      <td>Bachelors</td>\n",
       "      <td>13</td>\n",
       "      <td>Married-civ-spouse</td>\n",
       "      <td>Exec-managerial</td>\n",
       "      <td>Husband</td>\n",
       "      <td>White</td>\n",
       "      <td>Male</td>\n",
       "      <td>5178</td>\n",
       "      <td>0</td>\n",
       "      <td>40</td>\n",
       "      <td>United-States</td>\n",
       "      <td>&gt;50K</td>\n",
       "    </tr>\n",
       "    <tr>\n",
       "      <th>10</th>\n",
       "      <td>37</td>\n",
       "      <td>Private</td>\n",
       "      <td>280464</td>\n",
       "      <td>Some-college</td>\n",
       "      <td>10</td>\n",
       "      <td>Married-civ-spouse</td>\n",
       "      <td>Exec-managerial</td>\n",
       "      <td>Husband</td>\n",
       "      <td>Black</td>\n",
       "      <td>Male</td>\n",
       "      <td>0</td>\n",
       "      <td>0</td>\n",
       "      <td>80</td>\n",
       "      <td>United-States</td>\n",
       "      <td>&gt;50K</td>\n",
       "    </tr>\n",
       "    <tr>\n",
       "      <th>11</th>\n",
       "      <td>30</td>\n",
       "      <td>State-gov</td>\n",
       "      <td>141297</td>\n",
       "      <td>Bachelors</td>\n",
       "      <td>13</td>\n",
       "      <td>Married-civ-spouse</td>\n",
       "      <td>Prof-specialty</td>\n",
       "      <td>Husband</td>\n",
       "      <td>Asian-Pac-Islander</td>\n",
       "      <td>Male</td>\n",
       "      <td>0</td>\n",
       "      <td>0</td>\n",
       "      <td>40</td>\n",
       "      <td>India</td>\n",
       "      <td>&gt;50K</td>\n",
       "    </tr>\n",
       "    <tr>\n",
       "      <th>14</th>\n",
       "      <td>40</td>\n",
       "      <td>Private</td>\n",
       "      <td>121772</td>\n",
       "      <td>Assoc-voc</td>\n",
       "      <td>11</td>\n",
       "      <td>Married-civ-spouse</td>\n",
       "      <td>Craft-repair</td>\n",
       "      <td>Husband</td>\n",
       "      <td>Asian-Pac-Islander</td>\n",
       "      <td>Male</td>\n",
       "      <td>0</td>\n",
       "      <td>0</td>\n",
       "      <td>40</td>\n",
       "      <td>?</td>\n",
       "      <td>&gt;50K</td>\n",
       "    </tr>\n",
       "    <tr>\n",
       "      <th>...</th>\n",
       "      <td>...</td>\n",
       "      <td>...</td>\n",
       "      <td>...</td>\n",
       "      <td>...</td>\n",
       "      <td>...</td>\n",
       "      <td>...</td>\n",
       "      <td>...</td>\n",
       "      <td>...</td>\n",
       "      <td>...</td>\n",
       "      <td>...</td>\n",
       "      <td>...</td>\n",
       "      <td>...</td>\n",
       "      <td>...</td>\n",
       "      <td>...</td>\n",
       "      <td>...</td>\n",
       "    </tr>\n",
       "    <tr>\n",
       "      <th>32532</th>\n",
       "      <td>34</td>\n",
       "      <td>Private</td>\n",
       "      <td>204461</td>\n",
       "      <td>Doctorate</td>\n",
       "      <td>16</td>\n",
       "      <td>Married-civ-spouse</td>\n",
       "      <td>Prof-specialty</td>\n",
       "      <td>Husband</td>\n",
       "      <td>White</td>\n",
       "      <td>Male</td>\n",
       "      <td>0</td>\n",
       "      <td>0</td>\n",
       "      <td>60</td>\n",
       "      <td>United-States</td>\n",
       "      <td>&gt;50K</td>\n",
       "    </tr>\n",
       "    <tr>\n",
       "      <th>32533</th>\n",
       "      <td>54</td>\n",
       "      <td>Private</td>\n",
       "      <td>337992</td>\n",
       "      <td>Bachelors</td>\n",
       "      <td>13</td>\n",
       "      <td>Married-civ-spouse</td>\n",
       "      <td>Exec-managerial</td>\n",
       "      <td>Husband</td>\n",
       "      <td>Asian-Pac-Islander</td>\n",
       "      <td>Male</td>\n",
       "      <td>0</td>\n",
       "      <td>0</td>\n",
       "      <td>50</td>\n",
       "      <td>Japan</td>\n",
       "      <td>&gt;50K</td>\n",
       "    </tr>\n",
       "    <tr>\n",
       "      <th>32539</th>\n",
       "      <td>71</td>\n",
       "      <td>?</td>\n",
       "      <td>287372</td>\n",
       "      <td>Doctorate</td>\n",
       "      <td>16</td>\n",
       "      <td>Married-civ-spouse</td>\n",
       "      <td>?</td>\n",
       "      <td>Husband</td>\n",
       "      <td>White</td>\n",
       "      <td>Male</td>\n",
       "      <td>0</td>\n",
       "      <td>0</td>\n",
       "      <td>10</td>\n",
       "      <td>United-States</td>\n",
       "      <td>&gt;50K</td>\n",
       "    </tr>\n",
       "    <tr>\n",
       "      <th>32554</th>\n",
       "      <td>53</td>\n",
       "      <td>Private</td>\n",
       "      <td>321865</td>\n",
       "      <td>Masters</td>\n",
       "      <td>14</td>\n",
       "      <td>Married-civ-spouse</td>\n",
       "      <td>Exec-managerial</td>\n",
       "      <td>Husband</td>\n",
       "      <td>White</td>\n",
       "      <td>Male</td>\n",
       "      <td>0</td>\n",
       "      <td>0</td>\n",
       "      <td>40</td>\n",
       "      <td>United-States</td>\n",
       "      <td>&gt;50K</td>\n",
       "    </tr>\n",
       "    <tr>\n",
       "      <th>32557</th>\n",
       "      <td>40</td>\n",
       "      <td>Private</td>\n",
       "      <td>154374</td>\n",
       "      <td>HS-grad</td>\n",
       "      <td>9</td>\n",
       "      <td>Married-civ-spouse</td>\n",
       "      <td>Machine-op-inspct</td>\n",
       "      <td>Husband</td>\n",
       "      <td>White</td>\n",
       "      <td>Male</td>\n",
       "      <td>0</td>\n",
       "      <td>0</td>\n",
       "      <td>40</td>\n",
       "      <td>United-States</td>\n",
       "      <td>&gt;50K</td>\n",
       "    </tr>\n",
       "  </tbody>\n",
       "</table>\n",
       "<p>6662 rows × 15 columns</p>\n",
       "</div>"
      ],
      "text/plain": [
       "       age         workclass  fnlwgt     education  education-num  \\\n",
       "7       52  Self-emp-not-inc  209642       HS-grad              9   \n",
       "9       42           Private  159449     Bachelors             13   \n",
       "10      37           Private  280464  Some-college             10   \n",
       "11      30         State-gov  141297     Bachelors             13   \n",
       "14      40           Private  121772     Assoc-voc             11   \n",
       "...    ...               ...     ...           ...            ...   \n",
       "32532   34           Private  204461     Doctorate             16   \n",
       "32533   54           Private  337992     Bachelors             13   \n",
       "32539   71                 ?  287372     Doctorate             16   \n",
       "32554   53           Private  321865       Masters             14   \n",
       "32557   40           Private  154374       HS-grad              9   \n",
       "\n",
       "           marital-status         occupation relationship                race  \\\n",
       "7      Married-civ-spouse    Exec-managerial      Husband               White   \n",
       "9      Married-civ-spouse    Exec-managerial      Husband               White   \n",
       "10     Married-civ-spouse    Exec-managerial      Husband               Black   \n",
       "11     Married-civ-spouse     Prof-specialty      Husband  Asian-Pac-Islander   \n",
       "14     Married-civ-spouse       Craft-repair      Husband  Asian-Pac-Islander   \n",
       "...                   ...                ...          ...                 ...   \n",
       "32532  Married-civ-spouse     Prof-specialty      Husband               White   \n",
       "32533  Married-civ-spouse    Exec-managerial      Husband  Asian-Pac-Islander   \n",
       "32539  Married-civ-spouse                  ?      Husband               White   \n",
       "32554  Married-civ-spouse    Exec-managerial      Husband               White   \n",
       "32557  Married-civ-spouse  Machine-op-inspct      Husband               White   \n",
       "\n",
       "        sex  capital-gain  capital-loss  hours-per-week native-country salary  \n",
       "7      Male             0             0              45  United-States   >50K  \n",
       "9      Male          5178             0              40  United-States   >50K  \n",
       "10     Male             0             0              80  United-States   >50K  \n",
       "11     Male             0             0              40          India   >50K  \n",
       "14     Male             0             0              40              ?   >50K  \n",
       "...     ...           ...           ...             ...            ...    ...  \n",
       "32532  Male             0             0              60  United-States   >50K  \n",
       "32533  Male             0             0              50          Japan   >50K  \n",
       "32539  Male             0             0              10  United-States   >50K  \n",
       "32554  Male             0             0              40  United-States   >50K  \n",
       "32557  Male             0             0              40  United-States   >50K  \n",
       "\n",
       "[6662 rows x 15 columns]"
      ]
     },
     "execution_count": 16,
     "metadata": {},
     "output_type": "execute_result"
    }
   ],
   "source": [
    "ust50erkek = ust50[ust50['sex'] == 'Male']\n",
    "ust50erkek"
   ]
  },
  {
   "cell_type": "code",
   "execution_count": 17,
   "id": "c024aeeb",
   "metadata": {
    "execution": {
     "iopub.execute_input": "2023-09-11T12:32:23.534798Z",
     "iopub.status.busy": "2023-09-11T12:32:23.534351Z",
     "iopub.status.idle": "2023-09-11T12:32:23.545635Z",
     "shell.execute_reply": "2023-09-11T12:32:23.544621Z"
    },
    "papermill": {
     "duration": 0.041192,
     "end_time": "2023-09-11T12:32:23.547855",
     "exception": false,
     "start_time": "2023-09-11T12:32:23.506663",
     "status": "completed"
    },
    "tags": []
   },
   "outputs": [
    {
     "data": {
      "text/plain": [
       "array(['Married-civ-spouse', 'Divorced', 'Never-married', 'Separated',\n",
       "       'Widowed', 'Married-spouse-absent', 'Married-AF-spouse'],\n",
       "      dtype=object)"
      ]
     },
     "execution_count": 17,
     "metadata": {},
     "output_type": "execute_result"
    }
   ],
   "source": [
    "ust50erkek['marital-status'].unique()"
   ]
  },
  {
   "cell_type": "code",
   "execution_count": 18,
   "id": "aabd428f",
   "metadata": {
    "execution": {
     "iopub.execute_input": "2023-09-11T12:32:23.602539Z",
     "iopub.status.busy": "2023-09-11T12:32:23.602080Z",
     "iopub.status.idle": "2023-09-11T12:32:23.612750Z",
     "shell.execute_reply": "2023-09-11T12:32:23.611444Z"
    },
    "papermill": {
     "duration": 0.040833,
     "end_time": "2023-09-11T12:32:23.615338",
     "exception": false,
     "start_time": "2023-09-11T12:32:23.574505",
     "status": "completed"
    },
    "tags": []
   },
   "outputs": [
    {
     "data": {
      "text/plain": [
       "marital-status\n",
       "Married-civ-spouse       5938\n",
       "Never-married             325\n",
       "Divorced                  284\n",
       "Separated                  49\n",
       "Widowed                    39\n",
       "Married-spouse-absent      23\n",
       "Married-AF-spouse           4\n",
       "Name: count, dtype: int64"
      ]
     },
     "execution_count": 18,
     "metadata": {},
     "output_type": "execute_result"
    }
   ],
   "source": [
    "ust50erkek['marital-status'].value_counts()"
   ]
  },
  {
   "cell_type": "code",
   "execution_count": 19,
   "id": "9ac0fee3",
   "metadata": {
    "execution": {
     "iopub.execute_input": "2023-09-11T12:32:23.670511Z",
     "iopub.status.busy": "2023-09-11T12:32:23.670011Z",
     "iopub.status.idle": "2023-09-11T12:32:23.688498Z",
     "shell.execute_reply": "2023-09-11T12:32:23.687172Z"
    },
    "papermill": {
     "duration": 0.049189,
     "end_time": "2023-09-11T12:32:23.690867",
     "exception": false,
     "start_time": "2023-09-11T12:32:23.641678",
     "status": "completed"
    },
    "tags": []
   },
   "outputs": [
    {
     "data": {
      "text/plain": [
       "8.558106169296988"
      ]
     },
     "execution_count": 19,
     "metadata": {},
     "output_type": "execute_result"
    }
   ],
   "source": [
    "ust50erkek[ust50erkek['marital-status'].isin(['Married-civ-spouse' , 'Married-spouse-absent' , 'Married-AF-spouse' ])].shape[0] # Evlilerin sayısı\n",
    "\n",
    "ust50erkek[ust50erkek['marital-status'].isin(['Never-married' , 'Divorced' , 'Separated' , 'Widowed' ])].shape[0] # Bekarların sayısı\n",
    "\n",
    "ust50erkek[ust50erkek['marital-status'].isin(['Married-civ-spouse' , 'Married-spouse-absent' , 'Married-AF-spouse' ])].shape[0] / ust50erkek[ust50erkek['marital-status'].isin(['Never-married' , 'Divorced' , 'Separated' , 'Widowed' ])].shape[0]"
   ]
  },
  {
   "cell_type": "markdown",
   "id": "0085a92e",
   "metadata": {
    "papermill": {
     "duration": 0.027067,
     "end_time": "2023-09-11T12:32:23.744486",
     "exception": false,
     "start_time": "2023-09-11T12:32:23.717419",
     "status": "completed"
    },
    "tags": []
   },
   "source": [
    "**Bir kişinin haftada maksimum kaç saat çalıştığını bulun. Kaç kişi bu kadar saat çalışıyor ve bunlar arasında çok kazananların oranı nedir?**"
   ]
  },
  {
   "cell_type": "code",
   "execution_count": 20,
   "id": "8fc0192f",
   "metadata": {
    "execution": {
     "iopub.execute_input": "2023-09-11T12:32:23.801281Z",
     "iopub.status.busy": "2023-09-11T12:32:23.800890Z",
     "iopub.status.idle": "2023-09-11T12:32:23.808236Z",
     "shell.execute_reply": "2023-09-11T12:32:23.806992Z"
    },
    "papermill": {
     "duration": 0.038747,
     "end_time": "2023-09-11T12:32:23.810566",
     "exception": false,
     "start_time": "2023-09-11T12:32:23.771819",
     "status": "completed"
    },
    "tags": []
   },
   "outputs": [
    {
     "data": {
      "text/plain": [
       "99"
      ]
     },
     "execution_count": 20,
     "metadata": {},
     "output_type": "execute_result"
    }
   ],
   "source": [
    "df['hours-per-week'].max()"
   ]
  },
  {
   "cell_type": "code",
   "execution_count": 21,
   "id": "a57452c9",
   "metadata": {
    "execution": {
     "iopub.execute_input": "2023-09-11T12:32:23.868765Z",
     "iopub.status.busy": "2023-09-11T12:32:23.868366Z",
     "iopub.status.idle": "2023-09-11T12:32:23.877393Z",
     "shell.execute_reply": "2023-09-11T12:32:23.876152Z"
    },
    "papermill": {
     "duration": 0.041252,
     "end_time": "2023-09-11T12:32:23.879811",
     "exception": false,
     "start_time": "2023-09-11T12:32:23.838559",
     "status": "completed"
    },
    "tags": []
   },
   "outputs": [
    {
     "data": {
      "text/plain": [
       "85"
      ]
     },
     "execution_count": 21,
     "metadata": {},
     "output_type": "execute_result"
    }
   ],
   "source": [
    "df[df['hours-per-week'] == df['hours-per-week'].max()].shape[0]"
   ]
  },
  {
   "cell_type": "code",
   "execution_count": 22,
   "id": "1b1ead0c",
   "metadata": {
    "execution": {
     "iopub.execute_input": "2023-09-11T12:32:23.938273Z",
     "iopub.status.busy": "2023-09-11T12:32:23.937848Z",
     "iopub.status.idle": "2023-09-11T12:32:23.964703Z",
     "shell.execute_reply": "2023-09-11T12:32:23.963462Z"
    },
    "papermill": {
     "duration": 0.058208,
     "end_time": "2023-09-11T12:32:23.966883",
     "exception": false,
     "start_time": "2023-09-11T12:32:23.908675",
     "status": "completed"
    },
    "tags": []
   },
   "outputs": [
    {
     "data": {
      "text/html": [
       "<div>\n",
       "<style scoped>\n",
       "    .dataframe tbody tr th:only-of-type {\n",
       "        vertical-align: middle;\n",
       "    }\n",
       "\n",
       "    .dataframe tbody tr th {\n",
       "        vertical-align: top;\n",
       "    }\n",
       "\n",
       "    .dataframe thead th {\n",
       "        text-align: right;\n",
       "    }\n",
       "</style>\n",
       "<table border=\"1\" class=\"dataframe\">\n",
       "  <thead>\n",
       "    <tr style=\"text-align: right;\">\n",
       "      <th></th>\n",
       "      <th>age</th>\n",
       "      <th>workclass</th>\n",
       "      <th>fnlwgt</th>\n",
       "      <th>education</th>\n",
       "      <th>education-num</th>\n",
       "      <th>marital-status</th>\n",
       "      <th>occupation</th>\n",
       "      <th>relationship</th>\n",
       "      <th>race</th>\n",
       "      <th>sex</th>\n",
       "      <th>capital-gain</th>\n",
       "      <th>capital-loss</th>\n",
       "      <th>hours-per-week</th>\n",
       "      <th>native-country</th>\n",
       "      <th>salary</th>\n",
       "    </tr>\n",
       "  </thead>\n",
       "  <tbody>\n",
       "    <tr>\n",
       "      <th>935</th>\n",
       "      <td>37</td>\n",
       "      <td>Private</td>\n",
       "      <td>176900</td>\n",
       "      <td>HS-grad</td>\n",
       "      <td>9</td>\n",
       "      <td>Married-civ-spouse</td>\n",
       "      <td>Craft-repair</td>\n",
       "      <td>Husband</td>\n",
       "      <td>White</td>\n",
       "      <td>Male</td>\n",
       "      <td>0</td>\n",
       "      <td>0</td>\n",
       "      <td>99</td>\n",
       "      <td>United-States</td>\n",
       "      <td>&gt;50K</td>\n",
       "    </tr>\n",
       "    <tr>\n",
       "      <th>1172</th>\n",
       "      <td>25</td>\n",
       "      <td>Private</td>\n",
       "      <td>404616</td>\n",
       "      <td>Masters</td>\n",
       "      <td>14</td>\n",
       "      <td>Married-civ-spouse</td>\n",
       "      <td>Farming-fishing</td>\n",
       "      <td>Not-in-family</td>\n",
       "      <td>White</td>\n",
       "      <td>Male</td>\n",
       "      <td>0</td>\n",
       "      <td>0</td>\n",
       "      <td>99</td>\n",
       "      <td>United-States</td>\n",
       "      <td>&gt;50K</td>\n",
       "    </tr>\n",
       "    <tr>\n",
       "      <th>1887</th>\n",
       "      <td>55</td>\n",
       "      <td>Self-emp-not-inc</td>\n",
       "      <td>184425</td>\n",
       "      <td>Some-college</td>\n",
       "      <td>10</td>\n",
       "      <td>Married-civ-spouse</td>\n",
       "      <td>Farming-fishing</td>\n",
       "      <td>Husband</td>\n",
       "      <td>White</td>\n",
       "      <td>Male</td>\n",
       "      <td>0</td>\n",
       "      <td>0</td>\n",
       "      <td>99</td>\n",
       "      <td>United-States</td>\n",
       "      <td>&gt;50K</td>\n",
       "    </tr>\n",
       "    <tr>\n",
       "      <th>3578</th>\n",
       "      <td>37</td>\n",
       "      <td>Self-emp-inc</td>\n",
       "      <td>382802</td>\n",
       "      <td>Doctorate</td>\n",
       "      <td>16</td>\n",
       "      <td>Married-civ-spouse</td>\n",
       "      <td>Prof-specialty</td>\n",
       "      <td>Husband</td>\n",
       "      <td>Black</td>\n",
       "      <td>Male</td>\n",
       "      <td>0</td>\n",
       "      <td>0</td>\n",
       "      <td>99</td>\n",
       "      <td>United-States</td>\n",
       "      <td>&gt;50K</td>\n",
       "    </tr>\n",
       "    <tr>\n",
       "      <th>4086</th>\n",
       "      <td>50</td>\n",
       "      <td>?</td>\n",
       "      <td>174964</td>\n",
       "      <td>10th</td>\n",
       "      <td>6</td>\n",
       "      <td>Married-civ-spouse</td>\n",
       "      <td>?</td>\n",
       "      <td>Husband</td>\n",
       "      <td>White</td>\n",
       "      <td>Male</td>\n",
       "      <td>0</td>\n",
       "      <td>0</td>\n",
       "      <td>99</td>\n",
       "      <td>United-States</td>\n",
       "      <td>&lt;=50K</td>\n",
       "    </tr>\n",
       "    <tr>\n",
       "      <th>...</th>\n",
       "      <td>...</td>\n",
       "      <td>...</td>\n",
       "      <td>...</td>\n",
       "      <td>...</td>\n",
       "      <td>...</td>\n",
       "      <td>...</td>\n",
       "      <td>...</td>\n",
       "      <td>...</td>\n",
       "      <td>...</td>\n",
       "      <td>...</td>\n",
       "      <td>...</td>\n",
       "      <td>...</td>\n",
       "      <td>...</td>\n",
       "      <td>...</td>\n",
       "      <td>...</td>\n",
       "    </tr>\n",
       "    <tr>\n",
       "      <th>30992</th>\n",
       "      <td>40</td>\n",
       "      <td>Self-emp-inc</td>\n",
       "      <td>104235</td>\n",
       "      <td>Masters</td>\n",
       "      <td>14</td>\n",
       "      <td>Never-married</td>\n",
       "      <td>Other-service</td>\n",
       "      <td>Own-child</td>\n",
       "      <td>White</td>\n",
       "      <td>Male</td>\n",
       "      <td>0</td>\n",
       "      <td>0</td>\n",
       "      <td>99</td>\n",
       "      <td>United-States</td>\n",
       "      <td>&lt;=50K</td>\n",
       "    </tr>\n",
       "    <tr>\n",
       "      <th>31681</th>\n",
       "      <td>43</td>\n",
       "      <td>Private</td>\n",
       "      <td>266324</td>\n",
       "      <td>HS-grad</td>\n",
       "      <td>9</td>\n",
       "      <td>Married-civ-spouse</td>\n",
       "      <td>Craft-repair</td>\n",
       "      <td>Husband</td>\n",
       "      <td>White</td>\n",
       "      <td>Male</td>\n",
       "      <td>0</td>\n",
       "      <td>1902</td>\n",
       "      <td>99</td>\n",
       "      <td>United-States</td>\n",
       "      <td>&gt;50K</td>\n",
       "    </tr>\n",
       "    <tr>\n",
       "      <th>31699</th>\n",
       "      <td>43</td>\n",
       "      <td>Self-emp-not-inc</td>\n",
       "      <td>163108</td>\n",
       "      <td>Some-college</td>\n",
       "      <td>10</td>\n",
       "      <td>Married-civ-spouse</td>\n",
       "      <td>Farming-fishing</td>\n",
       "      <td>Husband</td>\n",
       "      <td>White</td>\n",
       "      <td>Male</td>\n",
       "      <td>0</td>\n",
       "      <td>0</td>\n",
       "      <td>99</td>\n",
       "      <td>United-States</td>\n",
       "      <td>&lt;=50K</td>\n",
       "    </tr>\n",
       "    <tr>\n",
       "      <th>32469</th>\n",
       "      <td>58</td>\n",
       "      <td>Self-emp-inc</td>\n",
       "      <td>181974</td>\n",
       "      <td>Doctorate</td>\n",
       "      <td>16</td>\n",
       "      <td>Never-married</td>\n",
       "      <td>Prof-specialty</td>\n",
       "      <td>Not-in-family</td>\n",
       "      <td>White</td>\n",
       "      <td>Female</td>\n",
       "      <td>0</td>\n",
       "      <td>0</td>\n",
       "      <td>99</td>\n",
       "      <td>?</td>\n",
       "      <td>&lt;=50K</td>\n",
       "    </tr>\n",
       "    <tr>\n",
       "      <th>32531</th>\n",
       "      <td>30</td>\n",
       "      <td>?</td>\n",
       "      <td>33811</td>\n",
       "      <td>Bachelors</td>\n",
       "      <td>13</td>\n",
       "      <td>Never-married</td>\n",
       "      <td>?</td>\n",
       "      <td>Not-in-family</td>\n",
       "      <td>Asian-Pac-Islander</td>\n",
       "      <td>Female</td>\n",
       "      <td>0</td>\n",
       "      <td>0</td>\n",
       "      <td>99</td>\n",
       "      <td>United-States</td>\n",
       "      <td>&lt;=50K</td>\n",
       "    </tr>\n",
       "  </tbody>\n",
       "</table>\n",
       "<p>85 rows × 15 columns</p>\n",
       "</div>"
      ],
      "text/plain": [
       "       age         workclass  fnlwgt     education  education-num  \\\n",
       "935     37           Private  176900       HS-grad              9   \n",
       "1172    25           Private  404616       Masters             14   \n",
       "1887    55  Self-emp-not-inc  184425  Some-college             10   \n",
       "3578    37      Self-emp-inc  382802     Doctorate             16   \n",
       "4086    50                 ?  174964          10th              6   \n",
       "...    ...               ...     ...           ...            ...   \n",
       "30992   40      Self-emp-inc  104235       Masters             14   \n",
       "31681   43           Private  266324       HS-grad              9   \n",
       "31699   43  Self-emp-not-inc  163108  Some-college             10   \n",
       "32469   58      Self-emp-inc  181974     Doctorate             16   \n",
       "32531   30                 ?   33811     Bachelors             13   \n",
       "\n",
       "           marital-status       occupation   relationship                race  \\\n",
       "935    Married-civ-spouse     Craft-repair        Husband               White   \n",
       "1172   Married-civ-spouse  Farming-fishing  Not-in-family               White   \n",
       "1887   Married-civ-spouse  Farming-fishing        Husband               White   \n",
       "3578   Married-civ-spouse   Prof-specialty        Husband               Black   \n",
       "4086   Married-civ-spouse                ?        Husband               White   \n",
       "...                   ...              ...            ...                 ...   \n",
       "30992       Never-married    Other-service      Own-child               White   \n",
       "31681  Married-civ-spouse     Craft-repair        Husband               White   \n",
       "31699  Married-civ-spouse  Farming-fishing        Husband               White   \n",
       "32469       Never-married   Prof-specialty  Not-in-family               White   \n",
       "32531       Never-married                ?  Not-in-family  Asian-Pac-Islander   \n",
       "\n",
       "          sex  capital-gain  capital-loss  hours-per-week native-country  \\\n",
       "935      Male             0             0              99  United-States   \n",
       "1172     Male             0             0              99  United-States   \n",
       "1887     Male             0             0              99  United-States   \n",
       "3578     Male             0             0              99  United-States   \n",
       "4086     Male             0             0              99  United-States   \n",
       "...       ...           ...           ...             ...            ...   \n",
       "30992    Male             0             0              99  United-States   \n",
       "31681    Male             0          1902              99  United-States   \n",
       "31699    Male             0             0              99  United-States   \n",
       "32469  Female             0             0              99              ?   \n",
       "32531  Female             0             0              99  United-States   \n",
       "\n",
       "      salary  \n",
       "935     >50K  \n",
       "1172    >50K  \n",
       "1887    >50K  \n",
       "3578    >50K  \n",
       "4086   <=50K  \n",
       "...      ...  \n",
       "30992  <=50K  \n",
       "31681   >50K  \n",
       "31699  <=50K  \n",
       "32469  <=50K  \n",
       "32531  <=50K  \n",
       "\n",
       "[85 rows x 15 columns]"
      ]
     },
     "execution_count": 22,
     "metadata": {},
     "output_type": "execute_result"
    }
   ],
   "source": [
    "cokcalisan = df[df['hours-per-week'] == df['hours-per-week'].max()]\n",
    "cokcalisan"
   ]
  },
  {
   "cell_type": "code",
   "execution_count": 23,
   "id": "b328143c",
   "metadata": {
    "execution": {
     "iopub.execute_input": "2023-09-11T12:32:24.023520Z",
     "iopub.status.busy": "2023-09-11T12:32:24.023108Z",
     "iopub.status.idle": "2023-09-11T12:32:24.033267Z",
     "shell.execute_reply": "2023-09-11T12:32:24.032146Z"
    },
    "papermill": {
     "duration": 0.041606,
     "end_time": "2023-09-11T12:32:24.036056",
     "exception": false,
     "start_time": "2023-09-11T12:32:23.994450",
     "status": "completed"
    },
    "tags": []
   },
   "outputs": [
    {
     "data": {
      "text/plain": [
       "salary\n",
       "<=50K    0.705882\n",
       ">50K     0.294118\n",
       "Name: proportion, dtype: float64"
      ]
     },
     "execution_count": 23,
     "metadata": {},
     "output_type": "execute_result"
    }
   ],
   "source": [
    "cokcalisan['salary'].value_counts(normalize= True)"
   ]
  },
  {
   "cell_type": "markdown",
   "id": "b59007dc",
   "metadata": {
    "papermill": {
     "duration": 0.02722,
     "end_time": "2023-09-11T12:32:24.091703",
     "exception": false,
     "start_time": "2023-09-11T12:32:24.064483",
     "status": "completed"
    },
    "tags": []
   },
   "source": [
    "**Her ülke için az ve çok kazananların ortalama çalışma süresini hesaplayın.** (crosstab kullanabilirsiniz)"
   ]
  },
  {
   "cell_type": "code",
   "execution_count": 24,
   "id": "abe4d2b6",
   "metadata": {
    "execution": {
     "iopub.execute_input": "2023-09-11T12:32:24.148137Z",
     "iopub.status.busy": "2023-09-11T12:32:24.147742Z",
     "iopub.status.idle": "2023-09-11T12:32:24.174764Z",
     "shell.execute_reply": "2023-09-11T12:32:24.173555Z"
    },
    "papermill": {
     "duration": 0.058461,
     "end_time": "2023-09-11T12:32:24.177462",
     "exception": false,
     "start_time": "2023-09-11T12:32:24.119001",
     "status": "completed"
    },
    "tags": []
   },
   "outputs": [
    {
     "data": {
      "text/plain": [
       "native-country  salary\n",
       "?               <=50K     40.164760\n",
       "                >50K      45.547945\n",
       "Cambodia        <=50K     41.416667\n",
       "                >50K      40.000000\n",
       "Canada          <=50K     37.914634\n",
       "                            ...    \n",
       "United-States   >50K      45.505369\n",
       "Vietnam         <=50K     37.193548\n",
       "                >50K      39.200000\n",
       "Yugoslavia      <=50K     41.600000\n",
       "                >50K      49.500000\n",
       "Name: hours-per-week, Length: 82, dtype: float64"
      ]
     },
     "execution_count": 24,
     "metadata": {},
     "output_type": "execute_result"
    }
   ],
   "source": [
    "df.groupby(['native-country' , 'salary'])['hours-per-week'].mean()"
   ]
  },
  {
   "cell_type": "markdown",
   "id": "685dd9b4",
   "metadata": {
    "papermill": {
     "duration": 0.027429,
     "end_time": "2023-09-11T12:32:24.232949",
     "exception": false,
     "start_time": "2023-09-11T12:32:24.205520",
     "status": "completed"
    },
    "tags": []
   },
   "source": [
    "## Intermediate Level Questions"
   ]
  },
  {
   "cell_type": "markdown",
   "id": "8a0a17b3",
   "metadata": {
    "papermill": {
     "duration": 0.027323,
     "end_time": "2023-09-11T12:32:24.288039",
     "exception": false,
     "start_time": "2023-09-11T12:32:24.260716",
     "status": "completed"
    },
    "tags": []
   },
   "source": [
    "**Farklı çalışma sınıfı(workclass) kategorileri arasında eğitim yılı (education-num) ortalaması nedir?**"
   ]
  },
  {
   "cell_type": "code",
   "execution_count": 25,
   "id": "b122e67a",
   "metadata": {
    "execution": {
     "iopub.execute_input": "2023-09-11T12:32:24.346489Z",
     "iopub.status.busy": "2023-09-11T12:32:24.345057Z",
     "iopub.status.idle": "2023-09-11T12:32:24.358855Z",
     "shell.execute_reply": "2023-09-11T12:32:24.357681Z"
    },
    "papermill": {
     "duration": 0.045422,
     "end_time": "2023-09-11T12:32:24.361173",
     "exception": false,
     "start_time": "2023-09-11T12:32:24.315751",
     "status": "completed"
    },
    "tags": []
   },
   "outputs": [
    {
     "data": {
      "text/plain": [
       "workclass\n",
       "?                    9.260349\n",
       "Federal-gov         10.973958\n",
       "Local-gov           11.042045\n",
       "Never-worked         7.428571\n",
       "Private              9.879714\n",
       "Self-emp-inc        11.137097\n",
       "Self-emp-not-inc    10.226289\n",
       "State-gov           11.375963\n",
       "Without-pay          9.071429\n",
       "Name: education-num, dtype: float64"
      ]
     },
     "execution_count": 25,
     "metadata": {},
     "output_type": "execute_result"
    }
   ],
   "source": [
    "df.groupby(['workclass'])['education-num'].mean()"
   ]
  },
  {
   "cell_type": "markdown",
   "id": "fb5a936b",
   "metadata": {
    "papermill": {
     "duration": 0.027527,
     "end_time": "2023-09-11T12:32:24.416255",
     "exception": false,
     "start_time": "2023-09-11T12:32:24.388728",
     "status": "completed"
    },
    "tags": []
   },
   "source": [
    "**Hangi meslek en yüksek ortalama maaşa sahiptir?**"
   ]
  },
  {
   "cell_type": "code",
   "execution_count": 26,
   "id": "d60eff2b",
   "metadata": {
    "execution": {
     "iopub.execute_input": "2023-09-11T12:32:24.474291Z",
     "iopub.status.busy": "2023-09-11T12:32:24.473290Z",
     "iopub.status.idle": "2023-09-11T12:32:24.499089Z",
     "shell.execute_reply": "2023-09-11T12:32:24.497922Z"
    },
    "papermill": {
     "duration": 0.057803,
     "end_time": "2023-09-11T12:32:24.501969",
     "exception": false,
     "start_time": "2023-09-11T12:32:24.444166",
     "status": "completed"
    },
    "tags": []
   },
   "outputs": [
    {
     "data": {
      "text/plain": [
       "'Exec-managerial'"
      ]
     },
     "execution_count": 26,
     "metadata": {},
     "output_type": "execute_result"
    }
   ],
   "source": [
    "df.groupby(['occupation'])['salary'].value_counts(normalize=True).loc[:, \">50K\"].idxmax()\n"
   ]
  },
  {
   "cell_type": "markdown",
   "id": "58b9c1b1",
   "metadata": {
    "papermill": {
     "duration": 0.027721,
     "end_time": "2023-09-11T12:32:24.557958",
     "exception": false,
     "start_time": "2023-09-11T12:32:24.530237",
     "status": "completed"
    },
    "tags": []
   },
   "source": [
    "**Cinsiyete göre haftalık çalışma saatleri arasında önemli farklar var mı?**"
   ]
  },
  {
   "cell_type": "code",
   "execution_count": 27,
   "id": "2db23213",
   "metadata": {
    "execution": {
     "iopub.execute_input": "2023-09-11T12:32:24.615880Z",
     "iopub.status.busy": "2023-09-11T12:32:24.615446Z",
     "iopub.status.idle": "2023-09-11T12:32:24.627800Z",
     "shell.execute_reply": "2023-09-11T12:32:24.626181Z"
    },
    "papermill": {
     "duration": 0.044554,
     "end_time": "2023-09-11T12:32:24.630528",
     "exception": false,
     "start_time": "2023-09-11T12:32:24.585974",
     "status": "completed"
    },
    "tags": []
   },
   "outputs": [
    {
     "name": "stdout",
     "output_type": "stream",
     "text": [
      "sex\n",
      "Female    36.410361\n",
      "Male      42.428086\n",
      "Name: hours-per-week, dtype: float64\n",
      "Male works 6 more hours than female on average\n"
     ]
    }
   ],
   "source": [
    "print(df.groupby(['sex'])['hours-per-week'].mean())\n",
    "print('Male works 6 more hours than female on average')"
   ]
  },
  {
   "cell_type": "markdown",
   "id": "34b4a0f9",
   "metadata": {
    "papermill": {
     "duration": 0.028657,
     "end_time": "2023-09-11T12:32:24.687795",
     "exception": false,
     "start_time": "2023-09-11T12:32:24.659138",
     "status": "completed"
    },
    "tags": []
   },
   "source": [
    "**Maaşları 50K'nın üzerinde ve altında olanlar için medeni durum dağılımı nasıl değişiyor?**"
   ]
  },
  {
   "cell_type": "code",
   "execution_count": 28,
   "id": "69a8edac",
   "metadata": {
    "execution": {
     "iopub.execute_input": "2023-09-11T12:32:24.747507Z",
     "iopub.status.busy": "2023-09-11T12:32:24.746294Z",
     "iopub.status.idle": "2023-09-11T12:32:24.766386Z",
     "shell.execute_reply": "2023-09-11T12:32:24.764751Z"
    },
    "papermill": {
     "duration": 0.052445,
     "end_time": "2023-09-11T12:32:24.768752",
     "exception": false,
     "start_time": "2023-09-11T12:32:24.716307",
     "status": "completed"
    },
    "tags": []
   },
   "outputs": [
    {
     "name": "stdout",
     "output_type": "stream",
     "text": [
      "salary  marital-status       \n",
      "<=50K   Never-married            0.412298\n",
      "        Married-civ-spouse       0.335113\n",
      "        Divorced                 0.161003\n",
      "        Separated                0.038794\n",
      "        Widowed                  0.036731\n",
      "        Married-spouse-absent    0.015534\n",
      "        Married-AF-spouse        0.000526\n",
      ">50K    Married-civ-spouse       0.853463\n",
      "        Never-married            0.062620\n",
      "        Divorced                 0.059049\n",
      "        Widowed                  0.010840\n",
      "        Separated                0.008417\n",
      "        Married-spouse-absent    0.004336\n",
      "        Married-AF-spouse        0.001275\n",
      "Name: proportion, dtype: float64\n",
      "we see that married ones tend to make more than 50K\n"
     ]
    }
   ],
   "source": [
    "print(df.groupby(['salary'])['marital-status'].value_counts(normalize=True))\n",
    "print('we see that married ones tend to make more than 50K')"
   ]
  },
  {
   "cell_type": "markdown",
   "id": "a101c939",
   "metadata": {
    "papermill": {
     "duration": 0.028186,
     "end_time": "2023-09-11T12:32:24.825235",
     "exception": false,
     "start_time": "2023-09-11T12:32:24.797049",
     "status": "completed"
    },
    "tags": []
   },
   "source": [
    "**Her ilişki türü için ortalama yaş nedir?**"
   ]
  },
  {
   "cell_type": "code",
   "execution_count": 29,
   "id": "f2ba41f2",
   "metadata": {
    "execution": {
     "iopub.execute_input": "2023-09-11T12:32:24.884845Z",
     "iopub.status.busy": "2023-09-11T12:32:24.884415Z",
     "iopub.status.idle": "2023-09-11T12:32:24.897400Z",
     "shell.execute_reply": "2023-09-11T12:32:24.896317Z"
    },
    "papermill": {
     "duration": 0.045948,
     "end_time": "2023-09-11T12:32:24.899599",
     "exception": false,
     "start_time": "2023-09-11T12:32:24.853651",
     "status": "completed"
    },
    "tags": []
   },
   "outputs": [
    {
     "data": {
      "text/plain": [
       "relationship\n",
       "Husband           43.818616\n",
       "Not-in-family     38.346057\n",
       "Other-relative    33.164118\n",
       "Own-child         24.827940\n",
       "Unmarried         40.293964\n",
       "Wife              39.846301\n",
       "Name: age, dtype: float64"
      ]
     },
     "execution_count": 29,
     "metadata": {},
     "output_type": "execute_result"
    }
   ],
   "source": [
    " df.groupby([\"relationship\"])[\"age\"].mean()"
   ]
  },
  {
   "cell_type": "markdown",
   "id": "97890967",
   "metadata": {
    "papermill": {
     "duration": 0.027883,
     "end_time": "2023-09-11T12:32:24.955936",
     "exception": false,
     "start_time": "2023-09-11T12:32:24.928053",
     "status": "completed"
    },
    "tags": []
   },
   "source": [
    "**Hangi ülkede en yüksek ortalama sermaye kazancı(capital gain) vardır?**"
   ]
  },
  {
   "cell_type": "code",
   "execution_count": 30,
   "id": "8856af74",
   "metadata": {
    "execution": {
     "iopub.execute_input": "2023-09-11T12:32:25.015186Z",
     "iopub.status.busy": "2023-09-11T12:32:25.014404Z",
     "iopub.status.idle": "2023-09-11T12:32:25.026823Z",
     "shell.execute_reply": "2023-09-11T12:32:25.025524Z"
    },
    "papermill": {
     "duration": 0.045078,
     "end_time": "2023-09-11T12:32:25.029576",
     "exception": false,
     "start_time": "2023-09-11T12:32:24.984498",
     "status": "completed"
    },
    "tags": []
   },
   "outputs": [
    {
     "data": {
      "text/plain": [
       "'India'"
      ]
     },
     "execution_count": 30,
     "metadata": {},
     "output_type": "execute_result"
    }
   ],
   "source": [
    " df.groupby([\"native-country\"])[\"capital-gain\"].mean().idxmax()"
   ]
  },
  {
   "cell_type": "markdown",
   "id": "c4a01763",
   "metadata": {
    "papermill": {
     "duration": 0.02945,
     "end_time": "2023-09-11T12:32:25.089888",
     "exception": false,
     "start_time": "2023-09-11T12:32:25.060438",
     "status": "completed"
    },
    "tags": []
   },
   "source": [
    "**Doktora seviyesinde eğitime sahip bireyler arasında ırk dağılımı nasıl değişir?**"
   ]
  },
  {
   "cell_type": "code",
   "execution_count": 31,
   "id": "e77f7d83",
   "metadata": {
    "execution": {
     "iopub.execute_input": "2023-09-11T12:32:25.148708Z",
     "iopub.status.busy": "2023-09-11T12:32:25.148310Z",
     "iopub.status.idle": "2023-09-11T12:32:25.165519Z",
     "shell.execute_reply": "2023-09-11T12:32:25.164183Z"
    },
    "papermill": {
     "duration": 0.049643,
     "end_time": "2023-09-11T12:32:25.167992",
     "exception": false,
     "start_time": "2023-09-11T12:32:25.118349",
     "status": "completed"
    },
    "tags": []
   },
   "outputs": [
    {
     "data": {
      "text/plain": [
       "race\n",
       "White                 369\n",
       "Asian-Pac-Islander     28\n",
       "Black                  11\n",
       "Amer-Indian-Eskimo      3\n",
       "Other                   2\n",
       "Name: count, dtype: int64"
      ]
     },
     "execution_count": 31,
     "metadata": {},
     "output_type": "execute_result"
    }
   ],
   "source": [
    "df[df[\"education\"]=='Doctorate'][\"race\"].value_counts()"
   ]
  },
  {
   "cell_type": "markdown",
   "id": "e6ca76fd",
   "metadata": {
    "papermill": {
     "duration": 0.028767,
     "end_time": "2023-09-11T12:32:25.226683",
     "exception": false,
     "start_time": "2023-09-11T12:32:25.197916",
     "status": "completed"
    },
    "tags": []
   },
   "source": [
    "**Asla çalışmamış (workclass: Never-worked) bireylerin farklı eğitim seviyeleri arasındaki oranı nedir?**"
   ]
  },
  {
   "cell_type": "code",
   "execution_count": 32,
   "id": "6f08f0e2",
   "metadata": {
    "execution": {
     "iopub.execute_input": "2023-09-11T12:32:25.286621Z",
     "iopub.status.busy": "2023-09-11T12:32:25.286200Z",
     "iopub.status.idle": "2023-09-11T12:32:25.303016Z",
     "shell.execute_reply": "2023-09-11T12:32:25.302082Z"
    },
    "papermill": {
     "duration": 0.049531,
     "end_time": "2023-09-11T12:32:25.305425",
     "exception": false,
     "start_time": "2023-09-11T12:32:25.255894",
     "status": "completed"
    },
    "tags": []
   },
   "outputs": [
    {
     "data": {
      "text/plain": [
       "education\n",
       "10th            0.285714\n",
       "Some-college    0.285714\n",
       "7th-8th         0.142857\n",
       "11th            0.142857\n",
       "HS-grad         0.142857\n",
       "Name: proportion, dtype: float64"
      ]
     },
     "execution_count": 32,
     "metadata": {},
     "output_type": "execute_result"
    }
   ],
   "source": [
    "df[(df['workclass'] == 'Never-worked')]['education'].value_counts(normalize=True)"
   ]
  },
  {
   "cell_type": "markdown",
   "id": "ed6895c2",
   "metadata": {
    "papermill": {
     "duration": 0.028992,
     "end_time": "2023-09-11T12:32:25.363586",
     "exception": false,
     "start_time": "2023-09-11T12:32:25.334594",
     "status": "completed"
    },
    "tags": []
   },
   "source": [
    "## Upper-intermediate Level Questions"
   ]
  },
  {
   "cell_type": "markdown",
   "id": "7ebadf78",
   "metadata": {
    "papermill": {
     "duration": 0.028814,
     "end_time": "2023-09-11T12:32:25.421406",
     "exception": false,
     "start_time": "2023-09-11T12:32:25.392592",
     "status": "completed"
    },
    "tags": []
   },
   "source": [
    "**Erkekler ve kadınlar arasında sermaye kazancı ve sermaye kaybı ortalamasını karşılaştırın.**"
   ]
  },
  {
   "cell_type": "code",
   "execution_count": 33,
   "id": "e1395439",
   "metadata": {
    "execution": {
     "iopub.execute_input": "2023-09-11T12:32:25.483460Z",
     "iopub.status.busy": "2023-09-11T12:32:25.483076Z",
     "iopub.status.idle": "2023-09-11T12:32:25.500978Z",
     "shell.execute_reply": "2023-09-11T12:32:25.499715Z"
    },
    "papermill": {
     "duration": 0.051793,
     "end_time": "2023-09-11T12:32:25.503598",
     "exception": false,
     "start_time": "2023-09-11T12:32:25.451805",
     "status": "completed"
    },
    "tags": []
   },
   "outputs": [
    {
     "data": {
      "text/html": [
       "<div>\n",
       "<style scoped>\n",
       "    .dataframe tbody tr th:only-of-type {\n",
       "        vertical-align: middle;\n",
       "    }\n",
       "\n",
       "    .dataframe tbody tr th {\n",
       "        vertical-align: top;\n",
       "    }\n",
       "\n",
       "    .dataframe thead th {\n",
       "        text-align: right;\n",
       "    }\n",
       "</style>\n",
       "<table border=\"1\" class=\"dataframe\">\n",
       "  <thead>\n",
       "    <tr style=\"text-align: right;\">\n",
       "      <th></th>\n",
       "      <th>capital-gain</th>\n",
       "      <th>capital-loss</th>\n",
       "    </tr>\n",
       "    <tr>\n",
       "      <th>sex</th>\n",
       "      <th></th>\n",
       "      <th></th>\n",
       "    </tr>\n",
       "  </thead>\n",
       "  <tbody>\n",
       "    <tr>\n",
       "      <th>Female</th>\n",
       "      <td>568.410547</td>\n",
       "      <td>61.187633</td>\n",
       "    </tr>\n",
       "    <tr>\n",
       "      <th>Male</th>\n",
       "      <td>1329.370078</td>\n",
       "      <td>100.213309</td>\n",
       "    </tr>\n",
       "  </tbody>\n",
       "</table>\n",
       "</div>"
      ],
      "text/plain": [
       "        capital-gain  capital-loss\n",
       "sex                               \n",
       "Female    568.410547     61.187633\n",
       "Male     1329.370078    100.213309"
      ]
     },
     "execution_count": 33,
     "metadata": {},
     "output_type": "execute_result"
    }
   ],
   "source": [
    "df.groupby([\"sex\"])[[\"capital-gain\", \"capital-loss\"]].mean()"
   ]
  },
  {
   "cell_type": "markdown",
   "id": "8be635d4",
   "metadata": {
    "papermill": {
     "duration": 0.028823,
     "end_time": "2023-09-11T12:32:25.561928",
     "exception": false,
     "start_time": "2023-09-11T12:32:25.533105",
     "status": "completed"
    },
    "tags": []
   },
   "source": [
    "**Her ırk için yaş dağılımı nedir?**"
   ]
  },
  {
   "cell_type": "code",
   "execution_count": 34,
   "id": "7d962d50",
   "metadata": {
    "execution": {
     "iopub.execute_input": "2023-09-11T12:32:25.622626Z",
     "iopub.status.busy": "2023-09-11T12:32:25.622243Z",
     "iopub.status.idle": "2023-09-11T12:32:26.695447Z",
     "shell.execute_reply": "2023-09-11T12:32:26.694320Z"
    },
    "papermill": {
     "duration": 1.106551,
     "end_time": "2023-09-11T12:32:26.697972",
     "exception": false,
     "start_time": "2023-09-11T12:32:25.591421",
     "status": "completed"
    },
    "tags": []
   },
   "outputs": [
    {
     "name": "stderr",
     "output_type": "stream",
     "text": [
      "/opt/conda/lib/python3.10/site-packages/seaborn/axisgrid.py:118: UserWarning: The figure layout has changed to tight\n",
      "  self._figure.tight_layout(*args, **kwargs)\n"
     ]
    },
    {
     "data": {
      "text/plain": [
       "<seaborn.axisgrid.FacetGrid at 0x7b2e6392ca60>"
      ]
     },
     "execution_count": 34,
     "metadata": {},
     "output_type": "execute_result"
    },
    {
     "data": {
      "image/png": "[encoded data removed]",
      "text/plain": [
       "<Figure size 688.875x500 with 1 Axes>"
      ]
     },
     "metadata": {},
     "output_type": "display_data"
    }
   ],
   "source": [
    "sns.displot(df, x=\"age\", hue=\"race\", kind=\"kde\", common_norm=False)"
   ]
  },
  {
   "cell_type": "markdown",
   "id": "d72b5556",
   "metadata": {
    "papermill": {
     "duration": 0.030297,
     "end_time": "2023-09-11T12:32:26.758865",
     "exception": false,
     "start_time": "2023-09-11T12:32:26.728568",
     "status": "completed"
    },
    "tags": []
   },
   "source": [
    "**Eğitim seviyelerine göre çalışma saatlerinin dağılımı nasıldır?**"
   ]
  },
  {
   "cell_type": "code",
   "execution_count": 35,
   "id": "a3d51cf8",
   "metadata": {
    "execution": {
     "iopub.execute_input": "2023-09-11T12:32:26.823010Z",
     "iopub.status.busy": "2023-09-11T12:32:26.821759Z",
     "iopub.status.idle": "2023-09-11T12:32:28.171484Z",
     "shell.execute_reply": "2023-09-11T12:32:28.170118Z"
    },
    "papermill": {
     "duration": 1.38464,
     "end_time": "2023-09-11T12:32:28.174205",
     "exception": false,
     "start_time": "2023-09-11T12:32:26.789565",
     "status": "completed"
    },
    "tags": []
   },
   "outputs": [
    {
     "name": "stderr",
     "output_type": "stream",
     "text": [
      "/opt/conda/lib/python3.10/site-packages/seaborn/axisgrid.py:118: UserWarning: The figure layout has changed to tight\n",
      "  self._figure.tight_layout(*args, **kwargs)\n"
     ]
    },
    {
     "data": {
      "text/plain": [
       "<seaborn.axisgrid.FacetGrid at 0x7b2e63ad6590>"
      ]
     },
     "execution_count": 35,
     "metadata": {},
     "output_type": "execute_result"
    },
    {
     "data": {
      "image/png": "[encoded data removed]",
      "text/plain": [
       "<Figure size 643.875x500 with 1 Axes>"
      ]
     },
     "metadata": {},
     "output_type": "display_data"
    }
   ],
   "source": [
    "sns.displot(df, x=\"hours-per-week\", hue=\"education\", kind=\"kde\", common_norm=False)"
   ]
  },
  {
   "cell_type": "code",
   "execution_count": 36,
   "id": "27b90746",
   "metadata": {
    "execution": {
     "iopub.execute_input": "2023-09-11T12:32:28.241539Z",
     "iopub.status.busy": "2023-09-11T12:32:28.241001Z",
     "iopub.status.idle": "2023-09-11T12:32:28.255489Z",
     "shell.execute_reply": "2023-09-11T12:32:28.254255Z"
    },
    "papermill": {
     "duration": 0.050452,
     "end_time": "2023-09-11T12:32:28.257838",
     "exception": false,
     "start_time": "2023-09-11T12:32:28.207386",
     "status": "completed"
    },
    "tags": []
   },
   "outputs": [
    {
     "data": {
      "text/plain": [
       "education\n",
       "10th            37.052519\n",
       "11th            33.925957\n",
       "12th            35.780600\n",
       "1st-4th         38.255952\n",
       "5th-6th         38.897898\n",
       "7th-8th         39.366873\n",
       "9th             38.044747\n",
       "Assoc-acdm      40.504217\n",
       "Assoc-voc       41.610709\n",
       "Bachelors       42.614006\n",
       "Doctorate       46.973366\n",
       "HS-grad         40.575374\n",
       "Masters         43.836332\n",
       "Preschool       36.647059\n",
       "Prof-school     47.425347\n",
       "Some-college    38.852284\n",
       "Name: hours-per-week, dtype: float64"
      ]
     },
     "execution_count": 36,
     "metadata": {},
     "output_type": "execute_result"
    }
   ],
   "source": [
    "df.groupby([\"education\"])[\"hours-per-week\"].mean()"
   ]
  },
  {
   "cell_type": "markdown",
   "id": "9b9a23ab",
   "metadata": {
    "papermill": {
     "duration": 0.032374,
     "end_time": "2023-09-11T12:32:28.322903",
     "exception": false,
     "start_time": "2023-09-11T12:32:28.290529",
     "status": "completed"
    },
    "tags": []
   },
   "source": [
    "**Her medeni durum için en yaygın meslek nedir?**"
   ]
  },
  {
   "cell_type": "code",
   "execution_count": 37,
   "id": "68f87f60",
   "metadata": {
    "execution": {
     "iopub.execute_input": "2023-09-11T12:32:28.389512Z",
     "iopub.status.busy": "2023-09-11T12:32:28.389134Z",
     "iopub.status.idle": "2023-09-11T12:32:28.410654Z",
     "shell.execute_reply": "2023-09-11T12:32:28.409495Z"
    },
    "papermill": {
     "duration": 0.057556,
     "end_time": "2023-09-11T12:32:28.413128",
     "exception": false,
     "start_time": "2023-09-11T12:32:28.355572",
     "status": "completed"
    },
    "tags": []
   },
   "outputs": [
    {
     "data": {
      "text/plain": [
       "marital-status\n",
       "Divorced                  Adm-clerical\n",
       "Married-AF-spouse         Adm-clerical\n",
       "Married-civ-spouse        Craft-repair\n",
       "Married-spouse-absent     Adm-clerical\n",
       "Never-married            Other-service\n",
       "Separated                Other-service\n",
       "Widowed                  Other-service\n",
       "Name: occupation, dtype: object"
      ]
     },
     "execution_count": 37,
     "metadata": {},
     "output_type": "execute_result"
    }
   ],
   "source": [
    "df.groupby(\"marital-status\")[\"occupation\"].agg(lambda x: x.mode().iat[0])"
   ]
  },
  {
   "cell_type": "markdown",
   "id": "15f30382",
   "metadata": {
    "papermill": {
     "duration": 0.032941,
     "end_time": "2023-09-11T12:32:28.478913",
     "exception": false,
     "start_time": "2023-09-11T12:32:28.445972",
     "status": "completed"
    },
    "tags": []
   },
   "source": [
    "**50K'nın altında maaş alanlar arasında en yaygın ilişki durumu nedir?**"
   ]
  },
  {
   "cell_type": "code",
   "execution_count": 38,
   "id": "6da12048",
   "metadata": {
    "execution": {
     "iopub.execute_input": "2023-09-11T12:32:28.546013Z",
     "iopub.status.busy": "2023-09-11T12:32:28.545618Z",
     "iopub.status.idle": "2023-09-11T12:32:28.567725Z",
     "shell.execute_reply": "2023-09-11T12:32:28.566656Z"
    },
    "papermill": {
     "duration": 0.059686,
     "end_time": "2023-09-11T12:32:28.571054",
     "exception": false,
     "start_time": "2023-09-11T12:32:28.511368",
     "status": "completed"
    },
    "tags": []
   },
   "outputs": [
    {
     "data": {
      "text/plain": [
       "'Not-in-family'"
      ]
     },
     "execution_count": 38,
     "metadata": {},
     "output_type": "execute_result"
    }
   ],
   "source": [
    "df[df['salary']=='<=50K']['relationship'].value_counts().idxmax()"
   ]
  },
  {
   "cell_type": "markdown",
   "id": "c50c6664",
   "metadata": {
    "papermill": {
     "duration": 0.032513,
     "end_time": "2023-09-11T12:32:28.636171",
     "exception": false,
     "start_time": "2023-09-11T12:32:28.603658",
     "status": "completed"
    },
    "tags": []
   },
   "source": [
    "**Hangi ülke, workclass = Self-emp-inc olarak en yüksek orana sahiptir?**"
   ]
  },
  {
   "cell_type": "code",
   "execution_count": 39,
   "id": "af472d6e",
   "metadata": {
    "execution": {
     "iopub.execute_input": "2023-09-11T12:32:28.703614Z",
     "iopub.status.busy": "2023-09-11T12:32:28.702502Z",
     "iopub.status.idle": "2023-09-11T12:32:28.718758Z",
     "shell.execute_reply": "2023-09-11T12:32:28.717529Z"
    },
    "papermill": {
     "duration": 0.052492,
     "end_time": "2023-09-11T12:32:28.721128",
     "exception": false,
     "start_time": "2023-09-11T12:32:28.668636",
     "status": "completed"
    },
    "tags": []
   },
   "outputs": [
    {
     "data": {
      "text/plain": [
       "'United-States'"
      ]
     },
     "execution_count": 39,
     "metadata": {},
     "output_type": "execute_result"
    }
   ],
   "source": [
    "df[(df['workclass'] == 'Self-emp-inc')]['native-country'].value_counts(normalize=True).idxmax()"
   ]
  },
  {
   "cell_type": "markdown",
   "id": "224c9fd2",
   "metadata": {
    "papermill": {
     "duration": 0.032935,
     "end_time": "2023-09-11T12:32:28.787485",
     "exception": false,
     "start_time": "2023-09-11T12:32:28.754550",
     "status": "completed"
    },
    "tags": []
   },
   "source": [
    "**Yönetici(Exec-managerial) rolündeki bireyler daha yüksek sermaye kazançlarına sahip olma olasılığında daha mıdır?**"
   ]
  },
  {
   "cell_type": "code",
   "execution_count": 40,
   "id": "9204cb7a",
   "metadata": {
    "execution": {
     "iopub.execute_input": "2023-09-11T12:32:28.856967Z",
     "iopub.status.busy": "2023-09-11T12:32:28.855742Z",
     "iopub.status.idle": "2023-09-11T12:32:28.870029Z",
     "shell.execute_reply": "2023-09-11T12:32:28.868920Z"
    },
    "papermill": {
     "duration": 0.052121,
     "end_time": "2023-09-11T12:32:28.872579",
     "exception": false,
     "start_time": "2023-09-11T12:32:28.820458",
     "status": "completed"
    },
    "tags": []
   },
   "outputs": [
    {
     "data": {
      "text/plain": [
       "occupation\n",
       "Prof-specialty       2726.699517\n",
       "Exec-managerial      2262.772996\n",
       "Sales                1319.829315\n",
       "Protective-serv       708.098613\n",
       "Tech-support          673.552802\n",
       "Craft-repair          649.512808\n",
       "?                     604.491047\n",
       "Farming-fishing       589.726358\n",
       "Adm-clerical          495.954907\n",
       "Transport-moving      490.323732\n",
       "Machine-op-inspct     328.689311\n",
       "Priv-house-serv       279.852349\n",
       "Handlers-cleaners     257.572993\n",
       "Other-service         191.301669\n",
       "Armed-Forces            0.000000\n",
       "Name: capital-gain, dtype: float64"
      ]
     },
     "execution_count": 40,
     "metadata": {},
     "output_type": "execute_result"
    }
   ],
   "source": [
    "df.groupby(df['occupation'])['capital-gain'].mean().sort_values(ascending=False)"
   ]
  },
  {
   "cell_type": "code",
   "execution_count": 41,
   "id": "4f00eb61",
   "metadata": {
    "execution": {
     "iopub.execute_input": "2023-09-11T12:32:28.940976Z",
     "iopub.status.busy": "2023-09-11T12:32:28.940558Z",
     "iopub.status.idle": "2023-09-11T12:32:28.952388Z",
     "shell.execute_reply": "2023-09-11T12:32:28.950829Z"
    },
    "papermill": {
     "duration": 0.049252,
     "end_time": "2023-09-11T12:32:28.954876",
     "exception": false,
     "start_time": "2023-09-11T12:32:28.905624",
     "status": "completed"
    },
    "tags": []
   },
   "outputs": [
    {
     "name": "stdout",
     "output_type": "stream",
     "text": [
      "Bu roldeki bireyler daha yüksek sermaye kazançlarına sahiptir:  Prof-specialty\n"
     ]
    }
   ],
   "source": [
    "print('Bu roldeki bireyler daha yüksek sermaye kazançlarına sahiptir: ',df.groupby(df['occupation'])['capital-gain'].mean().idxmax())"
   ]
  }
 ],
 "kernelspec": {
  "display_name": "Python 3",
  "language": "python",
  "name": "python3"
 },
 "language_info": {
  "codemirror_mode": {
   "name": "ipython",
   "version": 3
  },
  "file_extension": ".py",
  "mimetype": "text/x-python",
  "name": "python",
  "nbconvert_exporter": "python",
  "pygments_lexer": "ipython3",
  "version": "3.6.4"
 },
 "metadata": {
  "kernelspec": {
   "display_name": "Python 3",
   "language": "python",
   "name": "python3"
  },
  "language_info": {
   "codemirror_mode": {
    "name": "ipython",
    "version": 3
   },
   "file_extension": ".py",
   "mimetype": "text/x-python",
   "name": "python",
   "nbconvert_exporter": "python",
   "pygments_lexer": "ipython3",
   "version": "3.10.12"
  },
  "papermill": {
   "default_parameters": {},
   "duration": 15.821397,
   "end_time": "2023-09-11T12:32:29.609949",
   "environment_variables": {},
   "exception": null,
   "input_path": "__notebook__.ipynb",
   "output_path": "__notebook__.ipynb",
   "parameters": {},
   "start_time": "2023-09-11T12:32:13.788552",
   "version": "2.4.0"
  }
 },
 "nbformat": 4,
 "nbformat_minor": 5
}
